{
 "cells": [
  {
   "cell_type": "code",
   "execution_count": 2,
   "metadata": {},
   "outputs": [],
   "source": [
    "import numpy as np"
   ]
  },
  {
   "cell_type": "code",
   "execution_count": 3,
   "metadata": {},
   "outputs": [
    {
     "name": "stdout",
     "output_type": "stream",
     "text": [
      "1\n",
      "asda\n",
      "[1, 2, '3']\n",
      "[1, 2, 3]\n",
      "acho que consertei\n"
     ]
    }
   ],
   "source": [
    "a = (1, \"asda\", [1, 2, \"3\"], [1, 2, 3])\n",
    "[print(b) for b in a]\n",
    "print(\"acho que consertei\")\n",
    "pass"
   ]
  }
 ],
 "metadata": {
  "interpreter": {
   "hash": "e107845faf9f1bd82b266b86ccb1e33e1dc03ffc96fbd9dfec00bf6a83883512"
  },
  "kernelspec": {
   "display_name": "Python 3.8.11 64-bit ('dsic38': conda)",
   "language": "python",
   "name": "python3"
  },
  "language_info": {
   "codemirror_mode": {
    "name": "ipython",
    "version": 3
   },
   "file_extension": ".py",
   "mimetype": "text/x-python",
   "name": "python",
   "nbconvert_exporter": "python",
   "pygments_lexer": "ipython3",
   "version": "3.8.11"
  },
  "orig_nbformat": 4
 },
 "nbformat": 4,
 "nbformat_minor": 2
}
